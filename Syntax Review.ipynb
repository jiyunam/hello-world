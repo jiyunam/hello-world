{
 "cells": [
  {
   "cell_type": "markdown",
   "metadata": {},
   "source": [
    "# Basic Syntax Review\n"
   ]
  },
  {
   "cell_type": "markdown",
   "metadata": {},
   "source": [
    "Hey there! This notebook is intended as a few exercises to freshen up your memory on Python (and/or learn it if you bravely skipped CodeAcademy). It's not quite meant to teach in detail - skip back to [CodeAcademy](https://www.codecademy.com/learn/learn-python) if these are daunting (or Google your way along =P)\n",
    "\n",
    "To complete this notebook, fill out the cells below to accomplish what the description says."
   ]
  },
  {
   "cell_type": "markdown",
   "metadata": {},
   "source": [
    "## A Note on Python 3\n",
    "\n",
    "If you did the CodeAcademy course, you'll be used to print statements like this:\n",
    "\n",
    "`print 'foo'`\n",
    "\n",
    "You're working on Python 3 now, so printing goes like this:\n",
    "\n",
    "`print('foo')`\n",
    "\n",
    "This isn't actually the only change between Python 2 and Python 3, but it's the most visible change. [Read here](https://www.digitalocean.com/community/tutorials/python-2-vs-python-3-practical-considerations-2) to learn more about the difference between Python 2 and 3. "
   ]
  },
  {
   "cell_type": "markdown",
   "metadata": {},
   "source": [
    "## Variables & Types"
   ]
  },
  {
   "cell_type": "markdown",
   "metadata": {},
   "source": [
    "Remember: variables in Python are *dynamically typed*. This means that you don't have to assign the type of the variable, and it can change at any time. There is a type in Python called `None` - it is usually used to represent a null value.\n",
    "\n",
    "- assign `'foo'` to a variable name\n",
    "- print your variable\n",
    "- assign `2` to your variable\n",
    "- print your variable\n",
    "- assigne `None` to your variable\n",
    "- print your variable"
   ]
  },
  {
   "cell_type": "code",
   "execution_count": null,
   "metadata": {},
   "outputs": [],
   "source": [
    "# Write your code below (this is a comment)\n"
   ]
  },
  {
   "cell_type": "markdown",
   "metadata": {},
   "source": [
    "Multiple variables in Python can be assigned to at the same time:\n",
    "\n",
    "- write a one-liner to swap the values of `a` and `b`\n",
    "- print `a` and `b`"
   ]
  },
  {
   "cell_type": "code",
   "execution_count": null,
   "metadata": {},
   "outputs": [],
   "source": [
    "a, b = 1, 2\n",
    "\n",
    "# Write your code below\n"
   ]
  },
  {
   "cell_type": "markdown",
   "metadata": {},
   "source": [
    "## Conditionals"
   ]
  },
  {
   "cell_type": "markdown",
   "metadata": {},
   "source": [
    "Remember: python doesn't use curly braces (`{}`) or semicolons - it uses 4 spaces at the beginning of a line (inserted by using the TAB key) in order to dictate code flow.\n",
    "\n",
    "- Write an if-elif-else block that will print out the manufacturer of the equipment described in the variable `meter`.\n",
    "- It should print `B&K`, `Rion`, `AEL`, or `unknown`."
   ]
  },
  {
   "cell_type": "code",
   "execution_count": null,
   "metadata": {},
   "outputs": [],
   "source": [
    "meter = '2250'\n",
    "# meter = 'DA-20'\n",
    "# meter = 'ARMS-NVM-P0'\n",
    "# meter = 'something unknown'\n",
    "\n",
    "# Write your code below\n"
   ]
  },
  {
   "cell_type": "markdown",
   "metadata": {},
   "source": [
    "`None` is special: the best practice for `None` is to use the `is` operator to compare. `==` and `!=` work, but they're not ideal. The `is` operator checks that the objects that you're comparing are the *same*, not just *equivalent*. (If this makes sense to you: the `is` operator checks if the object is in the same locaiton in memory)\n",
    "\n",
    "- compare `a` and `b` to None and print the results"
   ]
  },
  {
   "cell_type": "code",
   "execution_count": null,
   "metadata": {},
   "outputs": [],
   "source": [
    "a = None\n",
    "b = 5\n",
    "\n",
    "# Write your code below\n"
   ]
  },
  {
   "cell_type": "markdown",
   "metadata": {},
   "source": [
    "## Loops"
   ]
  },
  {
   "cell_type": "markdown",
   "metadata": {},
   "source": [
    "### For loops\n",
    "\n",
    "For loops in Python loop over iterable objects. A tuple is an example of an iterable object - it's a sequence of objects. Below, `numbers` is a tuple (indicated by `()`) \n",
    "\n",
    "- Write a for loop that iterates over `numbers` and prints all that are over 10."
   ]
  },
  {
   "cell_type": "code",
   "execution_count": null,
   "metadata": {
    "scrolled": true
   },
   "outputs": [],
   "source": [
    "numbers = (0, 5, 62, 9, 46, 12, 30, 10, -4, 19)\n",
    "\n",
    "# Write your code below\n"
   ]
  },
  {
   "cell_type": "markdown",
   "metadata": {},
   "source": [
    "### While loops\n",
    "\n",
    "There are only two loop types in Python: while loops and for loops.\n",
    "\n",
    "- Write a while loop that calls `yell_in_rage()` while `argue_with_moecc()` returns false"
   ]
  },
  {
   "cell_type": "code",
   "execution_count": null,
   "metadata": {},
   "outputs": [],
   "source": [
    "import random\n",
    "def argue_with_moecc():\n",
    "    if random.randrange(0, 5) == 0:\n",
    "        print('The MOECC has relented!')\n",
    "        return True\n",
    "    else:\n",
    "        print('\"I don\\'t care about the science, show me the results!\"')\n",
    "        return False\n",
    "    \n",
    "def yell_in_rage():\n",
    "    print(\"ARGH!\")\n",
    "\n",
    "# Write your code below\n"
   ]
  },
  {
   "cell_type": "markdown",
   "metadata": {},
   "source": [
    "## Using Functions"
   ]
  },
  {
   "cell_type": "markdown",
   "metadata": {},
   "source": [
    "Arguments in Python can be passed in as positional arguments or as keyword arguments. Some functions have arguments that must be passed in as keyword arguments. Arguments can also have defaults, such that you don't have to pass in the argument if not desired.\n",
    "\n",
    "[`pq.dB_from_unit`](http://developmentmini.aercoustics.internal:8001/generated/core/dB/pyquist.dB_from_unit.html) is a good example. `value` can be passed in as a positional or a keyword argument, but `ref` must be passed in as a keyword argument, and also has a default. \n",
    "\n",
    "- Use `pq.dB_from_unit` to calculate the SPL of a few pressues (passing `value` as positional argument) and print them\n",
    "- Use `pq.dB_from_unit` to calculate the SPL of a few pressues (passing `value` as keyword argument) and print them\n",
    "- Use `pq.dB_from_unit` to calculate the level of a few velocities and print them. Hint: [References are contants in the PyQuist library](http://developmentmini.aercoustics.internal:8001/constants.html)."
   ]
  },
  {
   "cell_type": "code",
   "execution_count": null,
   "metadata": {
    "scrolled": true
   },
   "outputs": [],
   "source": [
    "import pyquist as pq\n",
    "\n",
    "# Write your code below\n"
   ]
  },
  {
   "cell_type": "markdown",
   "metadata": {},
   "source": [
    "Functions in Python can return multiple values. These will return as a tuple, which can then be assigned to multiple variables at the same time.\n",
    "\n",
    "[`pq.level`](http://developmentmini.aercoustics.internal:8001/generated/core/slm/pyquist.level.html) is a good example. If you pass in a `time_interval`, it'll return the start times for each time step, as well as the level values.\n",
    "\n",
    "- There's a provided `pq.level` call with pink noise\n",
    "- assign the output of the provided `pq.level` call to two different variables, then print them"
   ]
  },
  {
   "cell_type": "code",
   "execution_count": null,
   "metadata": {},
   "outputs": [],
   "source": [
    "# Generate 10 seconds of pink noise at 44.1kHz, then calculate 1 second Leqs\n",
    "# pq.level(pq.gen.pink_noise(10, 44100), 44100, time_interval=1)\n",
    "\n",
    "import pyquist as pq\n",
    "\n",
    "# Write your code below\n"
   ]
  },
  {
   "cell_type": "markdown",
   "metadata": {},
   "source": [
    "Functions in Python can take in arguments in the form of tuples (or dicts). This is especially useful when a function returns a tuple, and you need to immediately pass the tuple in as two values into a different function. To do this, use the 'splat' operators, `*` (for tuples) and `**` (for dicts). Taking in arguments from a list will pass them in as positional arguments, whereas taking in arguments form a dict will pass them in as keyword arguments.\n",
    "\n",
    "```\n",
    "function_a(*two_return_function())\n",
    "```\n",
    "\n",
    "- Use the same provided `pq.level` call with pink noise in conjunction with a call to [`pq.vis.plot_overlaid_channels()`](http://developmentmini.aercoustics.internal:8001/generated/vis/pyquist.vis.plot_overlaid_channels.html) to plot the levels"
   ]
  },
  {
   "cell_type": "code",
   "execution_count": null,
   "metadata": {},
   "outputs": [],
   "source": [
    "# Generate 10 seconds of pink noise at 44.1kHz, then calculate 1 second Leqs\n",
    "# pq.level(pq.gen.pink_noise(10, 44100), 44100, time_interval=1)\n",
    "\n",
    "import pyquist as pq\n",
    "\n",
    "# Write your code below\n"
   ]
  },
  {
   "cell_type": "markdown",
   "metadata": {},
   "source": [
    "## Writing Functions"
   ]
  },
  {
   "cell_type": "markdown",
   "metadata": {},
   "source": [
    "- Write a function that averages two input values\n",
    "- Test your function"
   ]
  },
  {
   "cell_type": "code",
   "execution_count": null,
   "metadata": {},
   "outputs": [],
   "source": [
    "# Write your code below\n"
   ]
  },
  {
   "cell_type": "markdown",
   "metadata": {},
   "source": [
    "Functions in Python can take an arbitrary number of positional or keyword arguments simply by defining `*args` or `**kwargs` (or both) in the definition. ([See here for more info.](https://pythontips.com/2013/08/04/args-and-kwargs-in-python-explained/))\n",
    "\n",
    "- Write a function that sums an arbitrary number of numbers passed in as positional arguments\n",
    "- Test your function by adding a large amount of numbers"
   ]
  },
  {
   "cell_type": "code",
   "execution_count": null,
   "metadata": {},
   "outputs": [],
   "source": [
    "# Write your code below\n"
   ]
  },
  {
   "cell_type": "markdown",
   "metadata": {},
   "source": [
    "- Write a function that takes in an arbitrary number of keyword arguments (and no positional arguments), and prints the names of the keyword arguments followed by their value (this assumes you know dicts. [Check out here if you need help.](https://www.codecademy.com/courses/learn-python/lessons/python-lists-and-dictionaries/resume))\n",
    "- Test your function"
   ]
  },
  {
   "cell_type": "code",
   "execution_count": null,
   "metadata": {},
   "outputs": [],
   "source": [
    "# Write your code below\n"
   ]
  },
  {
   "cell_type": "markdown",
   "metadata": {},
   "source": [
    "Writing multiple return functions - simply state `return a, b` or similar\n",
    "\n",
    "- Write a function that takes a number and returns that number as well as that number + 1\n",
    "- Test your function"
   ]
  },
  {
   "cell_type": "code",
   "execution_count": null,
   "metadata": {},
   "outputs": [],
   "source": [
    "# Write your code below\n"
   ]
  }
 ],
 "metadata": {
  "hide_input": false,
  "kernelspec": {
   "display_name": "Python 3",
   "language": "python",
   "name": "python3"
  },
  "language_info": {
   "codemirror_mode": {
    "name": "ipython",
    "version": 3
   },
   "file_extension": ".py",
   "mimetype": "text/x-python",
   "name": "python",
   "nbconvert_exporter": "python",
   "pygments_lexer": "ipython3",
   "version": "3.6.3"
  }
 },
 "nbformat": 4,
 "nbformat_minor": 2
}
